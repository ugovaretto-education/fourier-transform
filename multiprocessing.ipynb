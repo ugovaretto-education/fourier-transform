{
 "cells": [
  {
   "cell_type": "markdown",
   "id": "984f4d63-d798-4cbd-98c2-a0da7a79ef59",
   "metadata": {},
   "source": [
    "# Multiprocessing module"
   ]
  },
  {
   "cell_type": "markdown",
   "id": "26a62e07-69a2-45a9-b138-327a6bdcb913",
   "metadata": {},
   "source": [
    "__WARNING__: functions defined inside the Notebook cannot be passed as argument to any Multiprocessing function/object such as\n",
    "`Process`' constructor.\n",
    "The code in the cell must be written to file and the file imported as a module."
   ]
  },
  {
   "cell_type": "raw",
   "id": "a116fe36-dc4f-4657-a42a-19143a809b28",
   "metadata": {
    "jp-MarkdownHeadingCollapsed": true
   },
   "source": [
    "## Process"
   ]
  },
  {
   "cell_type": "code",
   "execution_count": null,
   "id": "b77adb44-7a3a-4049-ab9b-e7958ddc7c53",
   "metadata": {},
   "outputs": [],
   "source": [
    "%%writefile task.py\n",
    "def task(value):\n",
    "    # add your work here...\n",
    "    # ...\n",
    "    # all done\n",
    "    print(f'.done {value}', flush=True)"
   ]
  },
  {
   "cell_type": "code",
   "execution_count": null,
   "id": "fc5d0447-e2b7-4aa0-bc57-820f254c9c47",
   "metadata": {},
   "outputs": [],
   "source": [
    "# example of a parallel for loop with the Process class\n",
    "from multiprocessing import Process\n",
    "from task import task\n",
    "\n",
    "# protect the entry point\n",
    "#if __name__ == '__main__': # no need to use guard in Jupyter it seems\n",
    "# create all tasks\n",
    "processes = [Process(target=task, args=(i,)) for i in range(20)]\n",
    "# start all processes\n",
    "for process in processes:\n",
    "    process.start()\n",
    "# wait for all processes to complete\n",
    "for process in processes:\n",
    "    process.join()\n",
    "# report that all tasks are completed\n",
    "print('Done')"
   ]
  },
  {
   "cell_type": "markdown",
   "id": "252e4f14-ba5a-464e-ac15-94bd54204a72",
   "metadata": {
    "jp-MarkdownHeadingCollapsed": true
   },
   "source": [
    "## Pool"
   ]
  },
  {
   "cell_type": "code",
   "execution_count": null,
   "id": "06efacd7-c1e5-4c49-934a-04b94228379b",
   "metadata": {},
   "outputs": [],
   "source": [
    "%%writefile sum_product.py\n",
    "# function to be applied for each element\n",
    "def sum_product(e):\n",
    "    w_sum = sum([x*i for i in a])\n",
    "    return w_sum * e\n",
    "# pool initializer function\n",
    "def pool_initializer(X, A):\n",
    "    global x\n",
    "    x = X\n",
    "    global a\n",
    "    a = A"
   ]
  },
  {
   "cell_type": "code",
   "execution_count": null,
   "id": "cf27ea7d-bde3-4aee-b726-83a62a179610",
   "metadata": {},
   "outputs": [],
   "source": [
    "from multiprocessing import Pool, cpu_count\n",
    "from sum_product import sum_product, pool_initializer\n",
    "\n",
    "n = 100000\n",
    "X = 3\n",
    "A = [2, 4, 6, 8, 10, 12]\n",
    "\n",
    "with Pool(processes=cpu_count(), initializer=pool_initializer, initargs=(X, A)) as pool:\n",
    "    res = pool.map(sum_product, range(n))\n",
    "print(res)"
   ]
  },
  {
   "cell_type": "markdown",
   "id": "2ff5c0da-ba32-4980-943d-861330cf696f",
   "metadata": {
    "jp-MarkdownHeadingCollapsed": true
   },
   "source": [
    "## ProcessPoolExecutor"
   ]
  },
  {
   "cell_type": "code",
   "execution_count": null,
   "id": "fc38cb3b-40a7-4dad-b49c-3b4043ecd218",
   "metadata": {},
   "outputs": [],
   "source": [
    "%%writefile task.py\n",
    "def task(i: int):\n",
    "    return i"
   ]
  },
  {
   "cell_type": "code",
   "execution_count": null,
   "id": "501d076e-6a62-4894-babd-07d5387f1c30",
   "metadata": {},
   "outputs": [],
   "source": [
    "from concurrent.futures import ProcessPoolExecutor, as_completed\n",
    "from task import task\n",
    "#if __name__ == '__main__':\n",
    "# create the pool with the default number of workers\n",
    "with ProcessPoolExecutor() as exe:\n",
    "    # issue some tasks and collect futures\n",
    "    futures = [exe.submit(task, i) for i in range(50)]\n",
    "    # process results as tasks are completed\n",
    "    for future in as_completed(futures):\n",
    "        print(f'>got {future.result()}')\n",
    "    # issue one task for each call to the function\n",
    "    for result in exe.map(task, range(50)):\n",
    "        print(f'>got {result}')\n",
    "# report that all tasks are completed\n",
    "print('Done')"
   ]
  },
  {
   "cell_type": "markdown",
   "id": "ea2f638c-e1c9-4eed-ae94-d4fb0e746791",
   "metadata": {
    "jp-MarkdownHeadingCollapsed": true
   },
   "source": [
    "## Extend Process class"
   ]
  },
  {
   "cell_type": "code",
   "execution_count": null,
   "id": "b2f846be-8cc7-438f-9f78-01e88cee7bd0",
   "metadata": {},
   "outputs": [],
   "source": [
    "%%writefile custom_process.py\n",
    "# custom process class\n",
    "from multiprocessing import Process\n",
    "from time import sleep\n",
    "class CustomProcess(Process):\n",
    "    # override the run function\n",
    "    def run(self):\n",
    "        # block for a moment\n",
    "        sleep(1)\n",
    "        # display a message\n",
    "        print('This is coming from another process')"
   ]
  },
  {
   "cell_type": "code",
   "execution_count": null,
   "id": "cd7a08d5-4a6c-49ed-a8ca-4bf37eb5ade7",
   "metadata": {},
   "outputs": [],
   "source": [
    "# SuperFastPython.com\n",
    "# example of extending the Process class\n",
    "from time import sleep\n",
    "from multiprocessing import Process\n",
    "from custom_process import CustomProcess\n",
    " \n",
    "# entry point\n",
    "if __name__ == '__main__':\n",
    "    # create the process\n",
    "    process = CustomProcess()\n",
    "    # start the process\n",
    "    process.start()\n",
    "    # wait for the process to finish\n",
    "    print('Waiting for the process to finish')\n",
    "    process.join()"
   ]
  },
  {
   "cell_type": "markdown",
   "id": "a8f02f31-2be1-4b4a-939a-420df73ec1d9",
   "metadata": {},
   "source": [
    "### Return values\n",
    "\n",
    "Share values and arrays across processes with the `multiprocessing.Value` and `multiprocessing.Array` types."
   ]
  },
  {
   "cell_type": "code",
   "execution_count": null,
   "id": "b58bcd3a-c9d5-4155-ba76-3ee7f662107e",
   "metadata": {},
   "outputs": [],
   "source": [
    "%%writefile custom_process.py\n",
    "# example of extending the Process class and adding shared attributes\n",
    "from time import sleep\n",
    "from multiprocessing import Process\n",
    "from multiprocessing import Value\n",
    " \n",
    "# custom process class\n",
    "class CustomProcess(Process):\n",
    "    # override the constructor\n",
    "    def __init__(self, value=99):\n",
    "        # execute the base constructor\n",
    "        Process.__init__(self)\n",
    "        # initialize integer attribute\n",
    "        self.data = Value('i', value)\n",
    " \n",
    "    # override the run function\n",
    "    def run(self):\n",
    "        # block for a moment\n",
    "        sleep(1)\n",
    "        # store the data variable\n",
    "        #self.data.value = 99\n",
    "        # report stored value\n",
    "        print(f'Child stored: {self.data.value}')\n",
    " "
   ]
  },
  {
   "cell_type": "code",
   "execution_count": null,
   "id": "47b86d62-e47b-4217-9734-df555d798f35",
   "metadata": {},
   "outputs": [],
   "source": [
    "from custom_process import CustomProcess\n",
    "# entry point\n",
    "if __name__ == '__main__':\n",
    "    # create the process\n",
    "    processes = [CustomProcess(88), CustomProcess(77)]\n",
    "    # start the process\n",
    "    for p in processes:\n",
    "        p.start()\n",
    "    # wait for the process to finish\n",
    "    print('Waiting for the child processes to finish')\n",
    "    # block until child processes are terminated\n",
    "    for p in processes:\n",
    "        p.join()\n",
    "    # report the process attribute\n",
    "    for p in processes:\n",
    "        print(f'Parent got: {p.data.value}')"
   ]
  },
  {
   "cell_type": "markdown",
   "id": "3cbf5a8c-4a14-4d7f-9515-e63ff1f9304c",
   "metadata": {
    "jp-MarkdownHeadingCollapsed": true
   },
   "source": [
    "## Process attributes"
   ]
  },
  {
   "cell_type": "code",
   "execution_count": null,
   "id": "03d3bd5d-8f53-4f12-8b70-94737e5133e0",
   "metadata": {},
   "outputs": [],
   "source": [
    "import multiprocessing\n",
    "multiprocessing.get_all_start_methods()"
   ]
  },
  {
   "cell_type": "code",
   "execution_count": null,
   "id": "ddcff703-95bb-4dd9-8abf-cc4e3e6d091e",
   "metadata": {},
   "outputs": [],
   "source": [
    "from multiprocessing import Process\n",
    "p = Process()\n",
    "print(f\"Exit code before start: {p.exitcode}\")\n",
    "print(p.name)\n",
    "p.start()\n",
    "print(p.pid)\n",
    "p.join()\n",
    "print(f\"Exit code after join: {p.exitcode}\")"
   ]
  },
  {
   "cell_type": "code",
   "execution_count": null,
   "id": "a47164dd-3f4b-47da-a11d-c593703ae193",
   "metadata": {},
   "outputs": [],
   "source": [
    "import multiprocessing as mp\n",
    "print(mp.parent_process())\n",
    "print(mp.current_process())"
   ]
  },
  {
   "cell_type": "markdown",
   "id": "ce09d987-3ba8-4e00-93e0-5ae0c1fed12c",
   "metadata": {
    "jp-MarkdownHeadingCollapsed": true
   },
   "source": [
    "## Locks"
   ]
  },
  {
   "cell_type": "markdown",
   "id": "597f9144-635c-42cc-83a6-5287f63b8615",
   "metadata": {},
   "source": [
    "### Lock"
   ]
  },
  {
   "cell_type": "code",
   "execution_count": null,
   "id": "8a058c8a-7251-4c0d-a3a7-f519c1d53547",
   "metadata": {},
   "outputs": [],
   "source": [
    "%%writefile task.py\n",
    "# example of a mutual exclusion (mutex) lock for processes\n",
    "from time import sleep\n",
    "from random import random\n",
    "from multiprocessing import Process\n",
    "from multiprocessing import Lock\n",
    " \n",
    "# work function\n",
    "def task(lock, identifier, value):\n",
    "    # acquire the lock\n",
    "    with lock:\n",
    "        print(f'>process {identifier} got the lock, sleeping for {value}')\n",
    "        sleep(value)"
   ]
  },
  {
   "cell_type": "code",
   "execution_count": null,
   "id": "115e1913-8ddc-4ef5-957d-f73868a6533f",
   "metadata": {},
   "outputs": [],
   "source": [
    "# example of a mutual exclusion (mutex) lock for processes\n",
    "from time import sleep\n",
    "from random import random\n",
    "from multiprocessing import Process\n",
    "from multiprocessing import Lock\n",
    "from task import task\n",
    " \n",
    "# entry point\n",
    "if __name__ == '__main__':\n",
    "    # create the shared lock\n",
    "    lock = Lock()\n",
    "    # create a number of processes with different sleep times\n",
    "    processes = [Process(target=task, args=(lock, i, random())) for i in range(10)]\n",
    "    # start the processes\n",
    "    for process in processes:\n",
    "        process.start()\n",
    "    # wait for all processes to finish\n",
    "    for process in processes:\n",
    "        process.join()"
   ]
  },
  {
   "cell_type": "markdown",
   "id": "6a9e8d2c-2708-4a1e-8d18-95a8aea0327a",
   "metadata": {},
   "source": [
    "### Re-entrant Lock\n",
    "\n",
    "Allows to acquire multiple time the same lock."
   ]
  },
  {
   "cell_type": "code",
   "execution_count": null,
   "id": "4221c42e-0161-4ff8-bbb4-c9d94bf1a76c",
   "metadata": {},
   "outputs": [],
   "source": [
    "%%writefile task.py\n",
    "# example of a reentrant lock for processes\n",
    "from time import sleep\n",
    "from random import random\n",
    "from multiprocessing import Process\n",
    "from multiprocessing import RLock\n",
    " \n",
    "# reporting function\n",
    "def report(lock, identifier):\n",
    "    # acquire the lock\n",
    "    with lock:\n",
    "        print(f'>process {identifier} done')\n",
    " \n",
    "# work function\n",
    "def task(lock, identifier, value):\n",
    "    # acquire the lock\n",
    "    with lock:\n",
    "        print(f'>process {identifier} sleeping for {value}')\n",
    "        sleep(value)\n",
    "        # report\n",
    "        report(lock, identifier)\n",
    " "
   ]
  },
  {
   "cell_type": "code",
   "execution_count": null,
   "id": "73b7873e-3f9e-457e-9761-2d1042e99538",
   "metadata": {},
   "outputs": [],
   "source": [
    "from time import sleep\n",
    "from random import random\n",
    "from multiprocessing import Process\n",
    "from multiprocessing import RLock\n",
    "from task import task\n",
    "# entry point\n",
    "if __name__ == '__main__':\n",
    "    # create a shared reentrant lock\n",
    "    lock = RLock()\n",
    "    # create processes\n",
    "    processes = [Process(target=task, args=(lock, i, random())) for i in range(10)]\n",
    "    # start child processes\n",
    "    for process in processes:\n",
    "        process.start()\n",
    "    # wait for child processes to finish\n",
    "    for process in processes:\n",
    "        process.join()"
   ]
  },
  {
   "cell_type": "markdown",
   "id": "bd5d1f68-dd2c-4d66-a734-dedd05bd604a",
   "metadata": {
    "jp-MarkdownHeadingCollapsed": true
   },
   "source": [
    "## Condition Variable"
   ]
  },
  {
   "cell_type": "code",
   "execution_count": null,
   "id": "d7117f87-e351-45ea-a377-2d067861c075",
   "metadata": {},
   "outputs": [],
   "source": [
    "%%writefile task.py\n",
    "# example of wait/notify with a condition for processes\n",
    "from time import sleep\n",
    "from multiprocessing import Process\n",
    "from multiprocessing import Condition\n",
    " \n",
    "# target function to prepare some work\n",
    "def task(condition):\n",
    "    # block for a moment\n",
    "    sleep(1)\n",
    "    # notify a waiting process that the work is done\n",
    "    print('Child process sending notification...', flush=True)\n",
    "    with condition:\n",
    "        condition.notify()\n",
    "    # do something else...\n",
    "    sleep(1)"
   ]
  },
  {
   "cell_type": "code",
   "execution_count": null,
   "id": "3d258025-833c-44fd-9f04-b58b07533eda",
   "metadata": {},
   "outputs": [],
   "source": [
    "# example of wait/notify with a condition for processes\n",
    "from time import sleep\n",
    "from multiprocessing import Process\n",
    "from multiprocessing import Condition\n",
    " \n",
    "# entry point\n",
    "if __name__ == '__main__':\n",
    "    # create a condition\n",
    "    condition = Condition()\n",
    "    # wait to be notified that the data is ready\n",
    "    print('Main process waiting for data...')\n",
    "    with condition:\n",
    "        # start a new process to perform some work\n",
    "        worker = Process(target=task, args=(condition,))\n",
    "        worker.start()\n",
    "        # wait to be notified\n",
    "        condition.wait()\n",
    "    # we know the data is ready\n",
    "    print('Main process all done')"
   ]
  },
  {
   "cell_type": "markdown",
   "id": "acb7d422-3e93-4855-8cf8-33567b668f23",
   "metadata": {
    "jp-MarkdownHeadingCollapsed": true
   },
   "source": [
    "## Semaphore\n",
    "\n",
    "Grant access to a specific number of processes at a time, while the others wait."
   ]
  },
  {
   "cell_type": "code",
   "execution_count": null,
   "id": "e9d9372c-5017-4c6e-90b7-d13b2c28457e",
   "metadata": {},
   "outputs": [],
   "source": [
    "%%writefile task.py\n",
    "# example of using a semaphore\n",
    "from time import sleep\n",
    "from random import random\n",
    "from multiprocessing import Process\n",
    "from multiprocessing import Semaphore\n",
    " \n",
    "# target function\n",
    "def task(semaphore, number):\n",
    "    # attempt to acquire the semaphore\n",
    "    with semaphore:\n",
    "        # simulate computational effort\n",
    "        value = random()\n",
    "        sleep(value)\n",
    "        # report result\n",
    "        print(f'Process {number} got {value}')"
   ]
  },
  {
   "cell_type": "code",
   "execution_count": null,
   "id": "843b665e-0593-424e-b2d2-a9a1a0a3d37a",
   "metadata": {},
   "outputs": [],
   "source": [
    "# example of using a semaphore\n",
    "from time import sleep\n",
    "from random import random\n",
    "from multiprocessing import Process\n",
    "from multiprocessing import Semaphore\n",
    "from task import task \n",
    "\n",
    " \n",
    "# entry point\n",
    "if __name__ == '__main__':\n",
    "    # create the shared semaphore\n",
    "    semaphore = Semaphore(2) # grant access to only two processes at a time\n",
    "    # create processes\n",
    "    processes = [Process(target=task, args=(semaphore, i)) for i in range(10)]\n",
    "    # start child processes\n",
    "    for process in processes:\n",
    "        process.start()\n",
    "    # wait for child processes to finish\n",
    "    for process in processes:\n",
    "        process.join()\n"
   ]
  },
  {
   "cell_type": "markdown",
   "id": "18559abd-765c-4d40-9907-4f7184126ad8",
   "metadata": {
    "jp-MarkdownHeadingCollapsed": true
   },
   "source": [
    "## Event"
   ]
  },
  {
   "cell_type": "code",
   "execution_count": null,
   "id": "67e40327-b7e4-4c89-a5e5-681188af6e41",
   "metadata": {},
   "outputs": [],
   "source": [
    "%%writefile task.py\n",
    "# example of using an event object with processes\n",
    "from time import sleep\n",
    "from random import random\n",
    "from multiprocessing import Process\n",
    "from multiprocessing import Event\n",
    " \n",
    "# target task function\n",
    "def task(event, number):\n",
    "    # wait for the event to be set\n",
    "    print(f'Process {number} waiting...', flush=True)\n",
    "    event.wait()\n",
    "    # begin processing\n",
    "    value = random()\n",
    "    sleep(value)\n",
    "    print(f'Process {number} got {value}', flush=True)"
   ]
  },
  {
   "cell_type": "code",
   "execution_count": null,
   "id": "6d7d06f7-ccee-42ef-8848-55f3260901bd",
   "metadata": {},
   "outputs": [],
   "source": [
    "# example of using an event object with processes\n",
    "from time import sleep\n",
    "from random import random\n",
    "from multiprocessing import Process\n",
    "from multiprocessing import Event\n",
    "from task import task\n",
    " \n",
    "# entry point\n",
    "if __name__ == '__main__':\n",
    "    # create a shared event object\n",
    "    event = Event()\n",
    "    # create a suite of processes\n",
    "    processes = [Process(target=task, args=(event, i)) for i in range(5)]\n",
    "    # start all processes\n",
    "    for process in processes:\n",
    "        process.start()\n",
    "    # block for a moment\n",
    "    print('Main process blocking...')\n",
    "    sleep(2)\n",
    "    # trigger all child processes\n",
    "    event.set()\n",
    "    # wait for all child processes to terminate\n",
    "    for process in processes:\n",
    "        process.join()"
   ]
  },
  {
   "cell_type": "markdown",
   "id": "b9f51abe-6b71-41db-8c98-fbd1d57900da",
   "metadata": {
    "jp-MarkdownHeadingCollapsed": true
   },
   "source": [
    "## Barrier"
   ]
  },
  {
   "cell_type": "code",
   "execution_count": null,
   "id": "913c7445-587a-47e0-94a7-0e5b08fb71e5",
   "metadata": {},
   "outputs": [],
   "source": [
    "%%writefile task.py\n",
    "# example of using a barrier with processes\n",
    "from time import sleep\n",
    "from random import random\n",
    "from multiprocessing import Process\n",
    "from multiprocessing import Barrier\n",
    " \n",
    "# target function to prepare some work\n",
    "def task(barrier, number):\n",
    "    # generate a unique value\n",
    "    value = random() * 10\n",
    "    # block for a moment\n",
    "    sleep(value)\n",
    "    # report result\n",
    "    print(f'Process {number} done, got: {value}', flush=True)\n",
    "    # wait on all other processes to complete\n",
    "    barrier.wait()"
   ]
  },
  {
   "cell_type": "code",
   "execution_count": null,
   "id": "09d8e0b9-77d8-4eb9-bb11-a747ac65bf94",
   "metadata": {},
   "outputs": [],
   "source": [
    "# example of using a barrier with processes\n",
    "from time import sleep\n",
    "from random import random\n",
    "from multiprocessing import Process\n",
    "from multiprocessing import Barrier\n",
    " \n",
    "from task import task\n",
    " \n",
    "# entry point\n",
    "if __name__ == '__main__':\n",
    "    # create a barrier\n",
    "    barrier = Barrier(5 + 1) # all the processes waiting on barrier: 5 children and 1 parent (Main)\n",
    "    # create the worker processes\n",
    "    for i in range(5):\n",
    "        # start a new process to perform some work\n",
    "        worker = Process(target=task, args=(barrier, i))\n",
    "        worker.start()\n",
    "    # wait for all processes to finish\n",
    "    print('Main process waiting on all results...')\n",
    "    barrier.wait()\n",
    "    # report once all processes are done\n",
    "    print('All processes have their result')\n"
   ]
  },
  {
   "cell_type": "markdown",
   "id": "857b3ec0-8895-4921-a135-9d0886d5bf81",
   "metadata": {
    "jp-MarkdownHeadingCollapsed": true
   },
   "source": [
    "## Shared ctypes\n",
    "\n",
    "Shared ctypes provide a mechanism to share data safely between processes in a process-safe manner."
   ]
  },
  {
   "cell_type": "markdown",
   "id": "910ce4d7-db62-445a-874d-16222ef929e1",
   "metadata": {},
   "source": [
    "### Shared Array"
   ]
  },
  {
   "cell_type": "code",
   "execution_count": null,
   "id": "e57e6123-bc14-4c3e-b008-a93aa425adee",
   "metadata": {},
   "outputs": [],
   "source": [
    "%%writefile task.py\n",
    "import multiprocessing as mp\n",
    "def task(shared_array, barrier, task_id, num_tasks):\n",
    "    elem_per_task = (len(shared_array) + num_tasks - 1) // num_tasks\n",
    "    elem_per_task = min(elem_per_task, len(shared_array) - elem_per_task * task_id)\n",
    "    offset = task_id * elem_per_task\n",
    "    for i in range(offset, elem_per_task+offset):\n",
    "        shared_array[i] = task_id\n",
    "    barrier.wait()"
   ]
  },
  {
   "cell_type": "code",
   "execution_count": null,
   "id": "27b62dae-66a1-476b-b473-083c810671e3",
   "metadata": {},
   "outputs": [],
   "source": [
    "import multiprocessing as mp\n",
    "from task import task\n",
    "if __name__ == '__main__':\n",
    "    NUM_TASKS = 4\n",
    "    ARRAY_SIZE = 16\n",
    "    barrier = mp.Barrier(N + 1)\n",
    "    shared_array = mp.Array('i', ARRAY_SIZE)\n",
    "    for i in range(NUM_TASKS):\n",
    "        worker = mp.Process(target=task, args = (shared_array, barrier, i, NUM_TASKS))\n",
    "        worker.start()\n",
    "    barrier.wait()\n",
    "    with shared_array.get_lock():\n",
    "        for e in shared_array:\n",
    "            print(e)"
   ]
  },
  {
   "cell_type": "code",
   "execution_count": null,
   "id": "2bb657b8-c6ee-4eb9-8c93-839619ad8924",
   "metadata": {},
   "outputs": [],
   "source": [
    "import multiprocessing as mp\n",
    "import numpy as np\n",
    "from task import task\n",
    "if __name__ == '__main__':\n",
    "    NUM_TASKS = 4\n",
    "    ARRAY_SIZE = 16\n",
    "    barrier = mp.Barrier(N + 1)\n",
    "    shared_array = mp.RawArray('i', ARRAY_SIZE)\n",
    "    for i in range(NUM_TASKS):\n",
    "        worker = mp.Process(target=task, args = (shared_array, barrier, i, NUM_TASKS))\n",
    "        worker.start()\n",
    "    barrier.wait()\n",
    "    v = np.frombuffer(shared_array, dtype=np.int32)#.reshape((1, ARRAY_SIZE)) # reshape (rows, column)\n",
    "    print(v)"
   ]
  },
  {
   "cell_type": "markdown",
   "id": "7d846e61-52c3-42b7-9484-626e63e531c4",
   "metadata": {
    "jp-MarkdownHeadingCollapsed": true
   },
   "source": [
    "## Pipes and Queues"
   ]
  },
  {
   "cell_type": "markdown",
   "id": "bd90e7a7-d831-40d6-8452-ac1118823413",
   "metadata": {},
   "source": [
    "### Queue"
   ]
  },
  {
   "cell_type": "code",
   "execution_count": null,
   "id": "45eb7647-cd91-41f1-80a4-82986e14e448",
   "metadata": {},
   "outputs": [],
   "source": [
    "%%writefile square.py\n",
    "from multiprocessing import Queue\n",
    "def square(li, q):\n",
    "    for x in li:\n",
    "        square = x * x\n",
    "        q.put(square)"
   ]
  },
  {
   "cell_type": "code",
   "execution_count": null,
   "id": "48be7876-8a46-489e-98fb-1ffff81e9e06",
   "metadata": {},
   "outputs": [],
   "source": [
    "from multiprocessing import Process, Queue\n",
    "from square import square\n",
    "\n",
    "if __name__ == \"__main__\":\n",
    "    li = range(0, 5)\n",
    "    q = Queue()\n",
    "    process = Process(target=square, args=(li, q))\n",
    "    process.start()\n",
    "    process.join()\n",
    "    while not q.empty():\n",
    "        print(q.get())"
   ]
  },
  {
   "cell_type": "markdown",
   "id": "37fee9a4-eafd-4222-9cc7-f3ce3a8de4fa",
   "metadata": {},
   "source": [
    "### Pipe"
   ]
  },
  {
   "cell_type": "code",
   "execution_count": null,
   "id": "3c42a9f3-e5a4-4fbb-95d9-df3295318f52",
   "metadata": {},
   "outputs": [],
   "source": [
    "%%writefile square.py\n",
    "from multiprocessing import Pipe\n",
    "def square(li, con2):\n",
    "    for x in li:\n",
    "        square = x * x\n",
    "        con2.send(square)"
   ]
  },
  {
   "cell_type": "code",
   "execution_count": null,
   "id": "b6ff3683-de86-4010-bae9-326fd0a079fa",
   "metadata": {},
   "outputs": [],
   "source": [
    "from multiprocessing import Process, Pipe\n",
    "from square import square\n",
    "\n",
    "if __name__ == \"__main__\":\n",
    "    li = range(0, 5)\n",
    "    con1, con2 = Pipe()\n",
    "    process = Process(target=square, args=(li, con2))\n",
    "    process.start()\n",
    "\n",
    "    for i in range(0, 5):\n",
    "        print(con1.recv())\n",
    "    process.join()"
   ]
  },
  {
   "cell_type": "code",
   "execution_count": null,
   "id": "f7dc2c3a-32c2-46cf-88b9-da8acdcff4c8",
   "metadata": {},
   "outputs": [],
   "source": []
  }
 ],
 "metadata": {
  "kernelspec": {
   "display_name": "Python 3 (ipykernel)",
   "language": "python",
   "name": "python3"
  },
  "language_info": {
   "codemirror_mode": {
    "name": "ipython",
    "version": 3
   },
   "file_extension": ".py",
   "mimetype": "text/x-python",
   "name": "python",
   "nbconvert_exporter": "python",
   "pygments_lexer": "ipython3",
   "version": "3.11.5"
  }
 },
 "nbformat": 4,
 "nbformat_minor": 5
}
