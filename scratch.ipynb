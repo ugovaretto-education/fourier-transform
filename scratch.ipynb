{
 "cells": [
  {
   "cell_type": "markdown",
   "id": "389523fb-986b-4a87-89d1-7a4db3e87dfa",
   "metadata": {},
   "source": [
    "# Fast Fourier Transform\n",
    "\n",
    "\\begin{equation}\n",
    "\\displaylines{\n",
    "F_k = \\sum_{n=0}^{N/2-1}x_{2n}e^{-2\\pi jk2n/N} + \\sum_{n=0}^{N/2-1}x_{2n+1}e^{-2\\pi jk(2n+1)/N} = \\sum_{n=0}^{N/2-1}x_{2n}e^{-2\\pi jk2n/N} + \\omega_N^{k}\\sum_{n=0}^{N/2-1}x_{2n+1}e^{-2\\pi jk2n/N} \\\\\n",
    "where \\\\\n",
    "\\omega_N = e^{-2\\pi j/N}\n",
    "}\n",
    "\\end{equation}\n"
   ]
  },
  {
   "cell_type": "markdown",
   "id": "794cfeb4-bc21-4742-a043-7313ba8a0d4c",
   "metadata": {},
   "source": [
    "\\begin{equation}\n",
    "\\begin{cases}\n",
    "\\omega_N^{k + N/2} = e^{-2\\pi j * (k + N/2)/N} = e^{-2\\pi jk/N}*e^{-\\pi j} = -\\omega_N^{k}\\\\\n",
    "e^{-\\pi j} = cos(-\\pi) + j sin(-\\pi) = -1 \n",
    "\\end{cases}\n",
    "\\end{equation}"
   ]
  },
  {
   "cell_type": "markdown",
   "id": "7a5f4695-6edc-495a-9fe4-a480a674e339",
   "metadata": {},
   "source": [
    "\\begin{equation}\n",
    "\\displaylines{\n",
    "F_{k + N/2} = \\sum_{n=0}^{N/2-1}x_{2n}e^{-2\\pi j (k+N/2) 2n/N} + \\sum_{n=0}^{N/2-1}x_{2n+1}e^{-2\\pi j(k+N/2)(2n+1)/N} \\\\\n",
    "  = \\sum_{n=0}^{N/2-1}x_{2n}e^{-2\\pi j(k+N/2)2n/N} + \\omega_N^{k+N/2}\\sum_{n=0}^{N/2-1}x_{2n+1}e^{-2\\pi j(k+N/2)2n/N} \\\\\n",
    "  = \\sum_{n=0}^{N/2-1}x_{2n}e^{-2\\pi jk2n/N}e^{-2\\pi jn} - \\omega_N^k \\sum_{n=0}^{N/2-1}x_{2n+1}e^{-2\\pi jk2n/N}e^{-2\\pi jn} \\\\\n",
    "  where \\\\\n",
    "  e^{-2\\pi jn} = cos(-2\\pi n) + jsin(-2\\pi n) = 1\n",
    "}\n",
    "\\end{equation}"
   ]
  },
  {
   "cell_type": "markdown",
   "id": "fd7cfcc7-ad6e-408f-b2eb-6c5ed43413f8",
   "metadata": {},
   "source": [
    "\\begin{equation}\n",
    "\\begin{cases}\n",
    "\\begin{aligned}\n",
    "F_k = \\sum_{n=0}^{N/2-1}x_{2n}e^{-2\\pi jk2n/N} + \\omega_N^{k}\\sum_{n=0}^{N/2-1}x_{2n+1}e^{-2\\pi jk2n/N} \\\\\n",
    "F_{k + N/2} = \\sum_{n=0}^{N/2-1}x_{2n}e^{-2\\pi jk2n/N} - \\omega_N^{k}\\sum_{n=0}^{N/2-1}x_{2n+1}e^{-2\\pi jk2n/N} \\\\\n",
    "\\omega = e^{-2\\pi j/N} \\\\\n",
    "\\forall k \\in [0,N)\n",
    "\\end{aligned}\n",
    "\\end{cases} \\tag{1}\n",
    "\\end{equation}"
   ]
  },
  {
   "cell_type": "markdown",
   "id": "917c440a-c645-42e5-8dc7-90c89101b5c5",
   "metadata": {},
   "source": [
    "## Example\n",
    "\n",
    "$$\\forall k \\in [0,8)$$\n",
    "$$\\omega_N = e^{-2\\pi j/N}$$\n",
    "\n",
    "\\begin{equation}\n",
    "\\begin{cases}\n",
    "\\begin{aligned}\n",
    "F_0 = \\sum_{n=0}^{3}x_{2n}\\omega_8^{0\\cdot2n} + \\omega_8^{0}\\sum_{n=0}^{3}x_{2n+1}\\omega_8^{0\\cdot2n} = \\sum_{n=0}^{7}x_{n} \\\\\n",
    "F_1 = \\sum_{n=0}^{3}x_{2n}\\omega_8^{1\\cdot2n} + \\omega_8^{1}\\sum_{n=0}^{3}x_{2n+1}\\omega_8^{1\\cdot2n} \\\\\n",
    "F_2 = \\sum_{n=0}^{3}x_{2n}\\omega_8^{2\\cdot2n} + \\omega_8^{2}\\sum_{n=0}^{3}x_{2n+1}\\omega_8^{2\\cdot2n} \\\\\n",
    "F_3 = \\sum_{n=0}^{3}x_{2n}\\omega_8^{3\\cdot2n} + \\omega_8^{3}\\sum_{n=0}^{3}x_{2n+1}\\omega_8^{3\\cdot2n} \\\\\n",
    "F_4 = \\sum_{n=0}^{3}x_{2n}\\omega_8^{0\\cdot2n} - \\omega_8^{0}\\sum_{n=0}^{3}x_{2n+1}\\omega_8^{0\\cdot2n} \\\\\n",
    "F_5 = \\sum_{n=0}^{3}x_{2n}\\omega_8^{1\\cdot2n} - \\omega_8^{1}\\sum_{n=0}^{3}x_{2n+1}\\omega_8^{1\\cdot2n} \\\\\n",
    "F_6 = \\sum_{n=0}^{3}x_{2n}\\omega_8^{2\\cdot2n} - \\omega_8^{2}\\sum_{n=0}^{3}x_{2n+1}\\omega_8^{2\\cdot2n} \\\\\n",
    "F_7 = \\sum_{n=0}^{3}x_{2n}\\omega_8^{3\\cdot2n} - \\omega_8^{3}\\sum_{n=0}^{3}x_{2n+1}\\omega_8^{3\\cdot2n} \\\\\n",
    "\\end{aligned}\n",
    "\\end{cases}\n",
    "\\end{equation}"
   ]
  },
  {
   "cell_type": "markdown",
   "id": "d55c6a5b-6607-494d-b607-764dc90882e2",
   "metadata": {},
   "source": [
    "\\begin{equation}\n",
    "\\displaylines{\n",
    "F_k = (\\sum_{n=0}^{1}x_{2\\cdot2n}\\omega_{4}^{k\\cdot2\\cdot2n} + \\omega_{4}^{2k}\\sum_{n=0}^{1}x_{2\\cdot(2n+1)}\\omega_4^{k\\cdot2\\cdot2n}) + \\\\\n",
    "      + \\omega_8^k(\\omega_{4}^{k}\\sum_{n=0}^{1}x_{2\\cdot2n+1}\\omega_{4}^{k\\cdot2\\cdot2n} +\n",
    "        \\omega_{4}^{3k}\\sum_{n=0}^{1}x_{2\\cdot(2n+1)+1}\\omega_{4}^{k\\cdot2\\cdot2n})\n",
    "}\n",
    "\\end{equation}"
   ]
  },
  {
   "cell_type": "markdown",
   "id": "be2c39b4-f857-4656-af50-71891d13c7c7",
   "metadata": {},
   "source": [
    "\\begin{equation}\n",
    "F_k = x_0 + \\omega_4^{4k} \\cdot x_4 + \\omega_4^{2k} \\cdot x_2 + \\omega_4^{6k} \\cdot x_6 + \n",
    "      \\omega_8^k(\\omega_4^k \\cdot x_1 + \\omega_4^{5k} \\cdot x_5 + \\omega_4^{3k} \\cdot x_3 + \\omega_4^{7k} \\cdot x_7) \n",
    "\\end{equation}"
   ]
  },
  {
   "cell_type": "markdown",
   "id": "0e5bce41-559b-4d26-a264-fcf51f3ddf0b",
   "metadata": {},
   "source": [
    "\\begin{equation}\n",
    "\\displaylines{\n",
    "\\fbox{0}\\fbox{1}\\fbox{2}\\fbox{3}\\fbox{4}\\fbox{5}\\fbox{6}\\fbox{7} \\\\\n",
    "\\swarrow \\hspace{4mm} \\searrow \\\\\n",
    "\\fbox{0}\\fbox{2}\\fbox{4}\\fbox{6} \\hspace{10mm} \\fbox{1}\\fbox{3}\\fbox{5}\\fbox{7} \\\\\n",
    "\\swarrow \\hspace{5mm} \\searrow \\hspace{20mm} \\swarrow \\hspace{5mm} \\searrow \\\\\n",
    "\\fbox{0}\\fbox{4} \\hspace{10mm} \\fbox{2}\\fbox{6} \\hspace{10mm} \\fbox{1}\\fbox{3} \\hspace{10mm} \\fbox{5}\\fbox{7}\n",
    "}\n",
    "\\end{equation}"
   ]
  },
  {
   "cell_type": "code",
   "execution_count": 33,
   "id": "704fe2e0-7b04-4a77-afb9-be0ff0836231",
   "metadata": {},
   "outputs": [],
   "source": [
    "import numpy as np\n",
    "import numpy.typing as npt\n",
    "import numba as nb\n",
    "@nb.njit(cache=True)\n",
    "def bitreverse(n: int, num_bits: int) -> int:\n",
    "    x = 0\n",
    "    for i in range(num_bits):\n",
    "        x |= ((n >> i) & 0x1) << ((num_bits - i) - 1)\n",
    "        #n >>= 1\n",
    "    return x\n",
    "\n",
    "@nb.njit(cache=True)\n",
    "def shuffle_coeff(x: npt.NDArray[np.float64], y: npt.NDArray[np.cdouble]) -> None:\n",
    "    bits = int(np.log2(len(x)))\n",
    "    for i in range(len(x)):\n",
    "        y[i] = x[bitreverse(i, bits)] # + 0j\n",
    "\n",
    "@nb.njit(cache=True)\n",
    "def fft(x: npt.NDArray[np.float64]) -> npt.NDArray[np.cdouble]:\n",
    "    N = len(x)\n",
    "    y = np.zeros(N, dtype = np.cdouble)\n",
    "    shuffle_coeff(x, y)\n",
    "    levels = int(np.log2(N))\n",
    "    for l in range(1, levels + 1):\n",
    "        span = 1 << l # span = 2^level\n",
    "        s2 = span >> 1 # half span iterate until span/2 and use Eq. 1\n",
    "        wm = np.exp(-1j * np.pi / s2) # s2 == span/2 --> np.exp(-2j*np.pi/span) = np.exp(-j*np.pi/(span/2)) = np.exp(-j*np.pi/s2) \n",
    "        w = 1. + 0j\n",
    "        for s in range(s2): # iterate from 0 to span / 2 - 1\n",
    "            for k in range(s, N, span):\n",
    "                #w = np.exp(-2j*np.pi*(s + i * span)/span) #k is a multiple of span, therefore, it can be set outside the loop\n",
    "                                                           #see Eq. 2\n",
    "                u = y[k]\n",
    "                y[k] = u + w * y[k + span // 2]\n",
    "                y[k + span // 2] = u - w * y[k + span // 2]\n",
    "            w *= wm\n",
    "    return y  \n",
    "    \n",
    "@nb.njit(cache=True)\n",
    "def inplace_fft(x: npt.NDArray[np.float64], y: npt.NDArray[np.cdouble]) -> None:\n",
    "    N = len(x)\n",
    "    shuffle_coeff(x, y)\n",
    "    levels = int(np.log2(N))\n",
    "    for l in range(1, levels + 1):\n",
    "        span = 1 << l # span = 2^level\n",
    "        s2 = span >> 1 # half span iterate until span/2 and use Eq. 1\n",
    "        wm = np.exp(-1j * np.pi / s2) # s2 == span/2 --> np.exp(-2j*np.pi/span) = np.exp(-j*np.pi/(span/2)) = np.exp(-j*np.pi/s2) \n",
    "        w = 1. + 0j\n",
    "        for s in range(s2): # iterate from 0 to span / 2 - 1\n",
    "            for k in range(s, N, span):\n",
    "                #w = np.exp(-2j*np.pi*(s + i * span)/span) #k is a multiple of span, therefore, it can be set outside the loop\n",
    "                                                           #see Eq. 2\n",
    "                u = y[k]\n",
    "                y[k] = u + w * y[k + span // 2]\n",
    "                y[k + span // 2] = u - w * y[k + span // 2]\n",
    "            w *= wm\n",
    "    return y  "
   ]
  },
  {
   "cell_type": "markdown",
   "id": "e4650769-0203-41df-9318-f59f9f2583e8",
   "metadata": {},
   "source": [
    "\\begin{equation}\n",
    "\\begin{cases}\n",
    "k = s + n \\cdot span \\\\\n",
    "e^{-2\\pi j\\cdot (s+n\\cdot span)/span} = e^{-2\\pi js/span} \\cdot e^{-2\\pi j n} \\\\\n",
    "e^{-2\\pi j n} = 1 \\; \\forall n \\in \\mathbb{N}\n",
    "\\end{cases} \\tag{2}\n",
    "\\end{equation}"
   ]
  },
  {
   "cell_type": "code",
   "execution_count": 30,
   "id": "a3939cef-2a4f-425e-b4d3-1548febbbc79",
   "metadata": {},
   "outputs": [],
   "source": [
    "x = np.arange(8)"
   ]
  },
  {
   "cell_type": "code",
   "execution_count": 39,
   "id": "3a9c31f8-04c5-418a-8d02-648e320ad91d",
   "metadata": {},
   "outputs": [],
   "source": [
    "assert np.allclose(fft(x), np.fft.fft(x))"
   ]
  },
  {
   "cell_type": "code",
   "execution_count": 29,
   "id": "9053eddc-1aff-472c-b3f5-a9af1bdf8c10",
   "metadata": {},
   "outputs": [
    {
     "name": "stdout",
     "output_type": "stream",
     "text": [
      "1min 23s ± 1.45 s per loop (mean ± std. dev. of 7 runs, 1 loop each)\n"
     ]
    }
   ],
   "source": [
    "%%timeit\n",
    "N = 2**24\n",
    "x = np.arange(1, int(N+1))\n",
    "y = np.empty(N, dtype=np.cdouble, )\n",
    "inplace_fft(x,y)"
   ]
  },
  {
   "cell_type": "markdown",
   "id": "4272f22a-d13d-41f6-ab73-9d5754551476",
   "metadata": {},
   "source": [
    "# Parallel FFT"
   ]
  },
  {
   "cell_type": "markdown",
   "id": "f707c740-5be9-4e8d-b804-9ff17d240c82",
   "metadata": {},
   "source": [
    "\\begin{equation}\n",
    "\\displaylines{\n",
    "\\fbox{0}\\fbox{1}\\fbox{2}\\fbox{3}\\fbox{4}\\fbox{5}\\fbox{6}\\fbox{7} \\\\\n",
    "\\swarrow \\hspace{4mm} \\searrow \\\\\n",
    "\\fbox{0}\\fbox{2}\\fbox{4}\\fbox{6} \\hspace{10mm} \\fbox{1}\\fbox{3}\\fbox{5}\\fbox{7} \\\\\n",
    "\\swarrow \\hspace{5mm} \\searrow \\hspace{20mm} \\swarrow \\hspace{5mm} \\searrow \\\\\n",
    "\\fbox{0}\\fbox{4} \\hspace{10mm} \\fbox{2}\\fbox{6} \\hspace{10mm} \\fbox{1}\\fbox{3} \\hspace{10mm} \\fbox{5}\\fbox{7}\n",
    "}\n",
    "\\end{equation}"
   ]
  },
  {
   "cell_type": "markdown",
   "id": "0e065548-a588-426c-b07a-513a227803ba",
   "metadata": {},
   "source": [
    "[Parallel Python](./multiprocessing.ipynb)"
   ]
  },
  {
   "cell_type": "markdown",
   "id": "047ddd2e-856f-4e09-b8da-ca3d4d7cbfc6",
   "metadata": {},
   "source": [
    "Parralelisation scheme: \n",
    "\n",
    "1. split array into subranges\n",
    "2. pass array, offset, subrange size and barrier to processes\n",
    "4. if span is smaller or equal to subrange size perform standard computation if not set subrange size to 2 x subrange size and perform computation on elements previously computed by other process with higher rank\n",
    "5. if offset is not a multiple of span deactivate process by jumping directly to `barrier.wait` statement and let process with lower rank perform the computation\n",
    "\n",
    "Each active process always processes the same number of elements.\n",
    "\n",
    "Another option is to keep the number of active processes constant and reduce the number of elements processed per process.\n",
    "\n",
    "The `Multiprocessing` arrays do not support complex types: use real floating-point type and double the size of the array to accommodate\n",
    "complex number types.\n"
   ]
  },
  {
   "cell_type": "code",
   "execution_count": null,
   "id": "29812849-4761-47d9-99b3-2eac095227c3",
   "metadata": {},
   "outputs": [],
   "source": [
    "import multiprocessing as mp\n",
    "import numpy as np\n",
    "import numpy.typing as npt"
   ]
  },
  {
   "cell_type": "code",
   "execution_count": 1,
   "id": "8daeb152-7bd2-4e0d-b124-010847fe1d40",
   "metadata": {},
   "outputs": [
    {
     "name": "stdout",
     "output_type": "stream",
     "text": [
      "Overwriting parfft.py\n"
     ]
    }
   ],
   "source": [
    "%%writefile parfft.py\n",
    "import multiprocessing as mp\n",
    "import ctypes\n",
    "import numpy as np\n",
    "import numpy.typing as npt\n",
    "import numba as nb\n",
    "\n",
    "@nb.njit(cache=True)\n",
    "def bitreverse(n: int, num_bits: int) -> int:\n",
    "    x = 0\n",
    "    for i in range(num_bits):\n",
    "        x |= ((n >> i) & 0x1) << ((num_bits - i) - 1)\n",
    "        #n >>= 1\n",
    "    return x\n",
    "@nb.njit(cache=True)\n",
    "def shuffle_coeff(x: npt.NDArray[np.float64], y: npt.NDArray[np.cdouble]):\n",
    "    bits = int(np.log2(len(x)))\n",
    "    for i in range(len(x)):\n",
    "        y[i] = x[bitreverse(i, bits)] # + 0j\n",
    "    return y\n",
    "    \n",
    "# Numba does not understand any multiprocessing type it is therefore required to accelerate only\n",
    "# the per-level computation\n",
    "@nb.njit(cache=True)\n",
    "def fftlevel(y: npt.NDArray[np.cdouble], level: int, start: int, subrange: int):\n",
    "    span = 1 << level # span = 2^level\n",
    "    #if span larger than subrange double size of subrange\n",
    "    if span > subrange:\n",
    "        subrange *= 2\n",
    "    end = start + subrange\n",
    "    #if offset not a multiple of span do not do any work in this process\n",
    "    if start % span != 0:\n",
    "        end = 0 #this causes the loop to terminate immediately and jump directly to the barrier.wait statement\n",
    "    s2 = span >> 1 # half span, iterate until span/2 and use Eq. 1\n",
    "    wm = np.exp(-1j * np.pi / s2) # s2 == span/2 --> np.exp(-2j*np.pi/span) = np.exp(-j*np.pi/(span/2)) = np.exp(-j*np.pi/s2) \n",
    "    w = 1. + 0j\n",
    "    #print(f\"{mp.current_process().name} level: {l}, offset: {start}, span: {span}, subrange: {subrange}\")\n",
    "    for s in range(start, start + s2): # iterate from offset to offset + span / 2 - 1\n",
    "        for k in range(s, end, span):\n",
    "            #w = np.exp(-2j*np.pi*(s + i * span)/span) #k is a multiple of span, therefore, it can be set outside the loop                                                #see Eq. 2\n",
    "            u = y[k]\n",
    "            y[k] = u + w * y[k + s2]\n",
    "            y[k + s2] = u - w * y[k + s2]\n",
    "        w *= wm\n",
    "\n",
    "# Numba does not understand any multiprocessing type, it is therefore required to accelerate only\n",
    "# the per-level computation\n",
    "def accelfft(x: mp.RawArray, fft_range: tuple[int, int], barrier: mp.Barrier) -> None: # -> npt.NDArray[np.cdouble]:\n",
    "    y = np.frombuffer(x, dtype=np.cdouble)\n",
    "    N = len(y)\n",
    "    levels = int(np.log2(N))\n",
    "    start = fft_range[0]\n",
    "    subrange = fft_range[1]\n",
    "    for l in range(1, levels + 1):\n",
    "        fftlevel(y, l, start, subrange)\n",
    "        barrier.wait()\n",
    "        #print(f\"{mp.current_process().name}, y[0]: {y[0]}\")\n",
    "\n",
    "# apply fft to subrange\n",
    "# y contains the already shuffled elements\n",
    "def subfft(x: mp.RawArray, fft_range: tuple[int, int], barrier: mp.Barrier) -> None: # -> npt.NDArray[np.cdouble]:\n",
    "    y = np.frombuffer(x, dtype=np.cdouble)\n",
    "    N = len(y)\n",
    "    levels = int(np.log2(N))\n",
    "    start = fft_range[0]\n",
    "    subrange = fft_range[1]\n",
    "    for l in range(1, levels + 1):\n",
    "        span = 1 << l # span = 2^level\n",
    "        #if span larger than subrange double size of subrange\n",
    "        if span > subrange:\n",
    "            subrange *= 2\n",
    "        end = start + subrange\n",
    "        #if offset not a multiple of span do not do any work in this process\n",
    "        if start % span != 0:\n",
    "            end = 0 #this causes the loop to terminate immediately and jump directly to the barrier.wait statement\n",
    "        s2 = span >> 1 # half span, iterate until span/2 and use Eq. 1\n",
    "        wm = np.exp(-1j * np.pi / s2) # s2 == span/2 --> np.exp(-2j*np.pi/span) = np.exp(-j*np.pi/(span/2)) = np.exp(-j*np.pi/s2) \n",
    "        w = 1. + 0j\n",
    "        #print(f\"{mp.current_process().name} level: {l}, offset: {start}, span: {span}, subrange: {subrange}\")\n",
    "        for s in range(start, start + s2): # iterate from offset to offset + span / 2 - 1\n",
    "            for k in range(s, end, span):\n",
    "                #w = np.exp(-2j*np.pi*(s + i * span)/span) #k is a multiple of span, therefore, it can be set outside the loop                                                #see Eq. 2\n",
    "                u = y[k]\n",
    "                y[k] = u + w * y[k + s2]\n",
    "                y[k + s2] = u - w * y[k + s2]\n",
    "            w *= wm\n",
    "        barrier.wait()\n",
    "        #print(f\"{mp.current_process().name}, y[0]: {y[0]}\")\n",
    "\n",
    "#if jit == True use Numba accelerated code\n",
    "def parfft(x: npt.NDArray[np.float64], num_tasks: int, jit: bool = False) -> npt.NDArray[np.cdouble]:\n",
    "    N = len(x)\n",
    "    assert (np.log2(N) - np.floor(np.log2(N))) == 0\n",
    "    assert len(x) % num_tasks == 0\n",
    "    y = np.zeros(N, dtype = np.cdouble)\n",
    "    shuffle_coeff(x, y)\n",
    "    z = mp.RawArray(ctypes.c_double, 2 * len(y))\n",
    "    z_np = np.frombuffer(z, dtype=np.cdouble)\n",
    "    np.copyto(z_np, y)\n",
    "    subrange = N // num_tasks\n",
    "    barrier = mp.Barrier(num_tasks)\n",
    "    processes = [mp.Process(target=accelfft if jit else subfft, args=(z, (i*subrange, subrange), barrier)) for i in range(num_tasks)]\n",
    "    for p in processes:\n",
    "        p.start()\n",
    "    for p in processes:\n",
    "        p.join()\n",
    "    y = np.frombuffer(z, dtype=np.cdouble)\n",
    "    return y\n",
    "\n",
    "#if jit == True use Numba accelerated code\n",
    "def inplace_parfft(x: npt.NDArray[np.float64], num_tasks: int, z: mp.RawArray, jit: bool = False) -> None:\n",
    "    N = len(x)\n",
    "    assert N == len(z) // 2\n",
    "    assert (np.log2(N) - np.floor(np.log2(N))) == 0\n",
    "    assert len(x) % num_tasks == 0\n",
    "    z_np = np.frombuffer(z, dtype=np.cdouble)\n",
    "    shuffle_coeff(x, z_np)\n",
    "    subrange = N // num_tasks\n",
    "    barrier = mp.Barrier(num_tasks)\n",
    "    processes = [mp.Process(target=accelfft if jit else subfft, args=(z, (i*subrange, subrange), barrier)) for i in range(num_tasks)]\n",
    "    for p in processes:\n",
    "        p.start()\n",
    "    for p in processes:\n",
    "        p.join()\n",
    "        "
   ]
  },
  {
   "cell_type": "code",
   "execution_count": null,
   "id": "a842fc63-50ae-47d6-8dba-bd05303f2c20",
   "metadata": {},
   "outputs": [],
   "source": [
    "import numpy as np\n",
    "x = np.arange(1,17)\n",
    "np.fft.fft(x)"
   ]
  },
  {
   "cell_type": "code",
   "execution_count": 2,
   "id": "1b3a70be-cc33-4137-83a8-ae62a889a0b9",
   "metadata": {},
   "outputs": [
    {
     "name": "stdout",
     "output_type": "stream",
     "text": [
      "[36.+0.j         -4.+9.65685425j -4.+4.j         -4.+1.65685425j\n",
      " -4.+0.j         -4.-1.65685425j -4.-4.j         -4.-9.65685425j]\n"
     ]
    }
   ],
   "source": [
    "from parfft import parfft\n",
    "import numpy as np\n",
    "if __name__ == \"__main__\":\n",
    "    x = np.arange(1,9)\n",
    "    f = parfft(x, 1, True)\n",
    "    print(f)"
   ]
  },
  {
   "cell_type": "code",
   "execution_count": null,
   "id": "dd7b9ee7-adbc-4eb8-bf93-90e9a9eaeae5",
   "metadata": {},
   "outputs": [],
   "source": [
    "from parfft import parfft\n",
    "import numpy as np\n",
    "if __name__ == \"__main__\":\n",
    "    x = np.arange(1,17)\n",
    "    f = parfft(x, 8)\n",
    "    print(f)"
   ]
  },
  {
   "cell_type": "markdown",
   "id": "f02dba73-7191-4457-8f47-3a8fc2f45dd8",
   "metadata": {},
   "source": [
    "\n",
    "|       |offsets     |subrange   |\n",
    "|-------|------------|-----------|\n",
    "|level 1|0, 4, 8, 12 | 4         |\n",
    "|level 2|0, 4, 8, 12 | 4         |\n",
    "|level 3|0, 8        | 8         |\n",
    "|level 4|0           | 16        |"
   ]
  },
  {
   "cell_type": "code",
   "execution_count": 2,
   "id": "176770f7-fe91-4766-9e1b-91542a865b5b",
   "metadata": {},
   "outputs": [
    {
     "name": "stdout",
     "output_type": "stream",
     "text": [
      "913 ms ± 32.5 ms per loop (mean ± std. dev. of 7 runs, 1 loop each)\n"
     ]
    }
   ],
   "source": [
    "%%timeit\n",
    "from parfft import parfft\n",
    "import numpy as np\n",
    "x = np.arange(1,int(2**20)+1)\n",
    "_ = parfft(x, 2, jit=True)"
   ]
  },
  {
   "cell_type": "code",
   "execution_count": 42,
   "id": "1fc33fb1-207e-4fba-9e45-bb6d987ebb80",
   "metadata": {},
   "outputs": [
    {
     "name": "stdout",
     "output_type": "stream",
     "text": [
      "855 ms ± 15.2 ms per loop (mean ± std. dev. of 7 runs, 1 loop each)\n"
     ]
    }
   ],
   "source": [
    "%%timeit\n",
    "import numpy as np\n",
    "x = np.arange(1, int(2**25)+1)\n",
    "_ = np.fft.fft(x)"
   ]
  },
  {
   "cell_type": "code",
   "execution_count": 9,
   "id": "697c8f3d-9e0a-4d84-8a03-5fcebef2f382",
   "metadata": {},
   "outputs": [
    {
     "name": "stdout",
     "output_type": "stream",
     "text": [
      "8\n"
     ]
    }
   ],
   "source": [
    "import multiprocessing as mp\n",
    "print(mp.cpu_count())"
   ]
  },
  {
   "cell_type": "code",
   "execution_count": 2,
   "id": "906aa134-2d18-4a96-9212-c5654eb9ed5b",
   "metadata": {},
   "outputs": [
    {
     "name": "stdout",
     "output_type": "stream",
     "text": [
      "[36.+0.j         -4.+9.65685425j -4.+4.j         -4.+1.65685425j\n",
      " -4.+0.j         -4.-1.65685425j -4.-4.j         -4.-9.65685425j]\n"
     ]
    }
   ],
   "source": [
    "#%%timeit\n",
    "# cpp version is same speed as single process with jit on\n",
    "import multiprocessing as mp\n",
    "from parfft import inplace_parfft\n",
    "import numpy as np\n",
    "import ctypes\n",
    "N = 8 #2**20\n",
    "x = np.arange(1,int(N)+1)\n",
    "z = mp.RawArray(ctypes.c_double, 2 * N)\n",
    "inplace_parfft(x, 1, z, True)\n",
    "y = np.frombuffer(z, dtype=np.cdouble)\n",
    "print(y)"
   ]
  },
  {
   "cell_type": "markdown",
   "id": "694ed2dc-f565-414b-a184-ca0a3fa62bb2",
   "metadata": {},
   "source": [
    "## C++ version"
   ]
  },
  {
   "cell_type": "markdown",
   "id": "75e39a75-00cf-41cf-988d-18ff98f6fb00",
   "metadata": {},
   "source": [
    "```c++\n",
    "#include <algorithm>\n",
    "#include <chrono>\n",
    "#include <cmath>\n",
    "#include <complex>\n",
    "#include <future>\n",
    "#include <iostream>\n",
    "#include <iterator>\n",
    "#include <numeric>\n",
    "#include <string>\n",
    "#include <thread>\n",
    "#include <vector>\n",
    "\n",
    "using namespace std;\n",
    "using namespace chrono;\n",
    "\n",
    "using Real = double;\n",
    "using Complex = complex<Real>;\n",
    "using Array = vector<Real>;\n",
    "using CArray = vector<Complex>;\n",
    "\n",
    "size_t BitReverse(size_t n, int nbits) {\n",
    "  size_t x = 0;\n",
    "  for (int i = 0; i != nbits; ++i) {\n",
    "    x |= ((n >> i) & 0x1) << ((nbits - i) - 1);\n",
    "  }\n",
    "  return x;\n",
    "}\n",
    "\n",
    "void ShuffleCoeff(const Array &x, CArray &y) {\n",
    "  auto bits = int(log2(x.size()));\n",
    "  for (size_t i = 0; i != x.size(); ++i) {\n",
    "    y[i] = Complex(x[BitReverse(i, bits)], 0.f);\n",
    "  }\n",
    "}\n",
    "\n",
    "CArray FFT(const Array &x) {\n",
    "  const auto N = x.size();\n",
    "  CArray y(N);\n",
    "  ShuffleCoeff(x, y);\n",
    "  auto levels = int(log2(N));\n",
    "  for (int l = 1; l != levels + 1; ++l) {\n",
    "    auto span = 1 << l;\n",
    "    auto s2 = span >> 1;\n",
    "    auto wm = exp(Complex(0.f, -M_PI / Real(s2)));\n",
    "    auto w = Complex(1.f, 0.f);\n",
    "    for (int s = 0; s < s2; ++s) {\n",
    "      for (int k = s; k < N; k += span) {\n",
    "        Complex u = y[k];\n",
    "        y[k] = u + w * y[k + s2];\n",
    "        y[k + s2] = u - w * y[k + s2];\n",
    "      }\n",
    "      w *= wm;\n",
    "    }\n",
    "  }\n",
    "  return y;\n",
    "}\n",
    "\n",
    "int main(int argc, char **argv) {\n",
    "  if (argc < 2) {\n",
    "    cerr << argv[0] << \" <array size (power of two)>\" << endl;\n",
    "    exit(EXIT_FAILURE);\n",
    "  }\n",
    "  const size_t SIZE = stoull(argv[1]);\n",
    "  if (log2(double(SIZE)) != floor(log2(double(SIZE)))) {\n",
    "    cerr << \"Size must be a power of two\" << endl;\n",
    "    exit(EXIT_FAILURE);\n",
    "  }\n",
    "  Array x(SIZE);\n",
    "  iota(begin(x), end(x), Real(1));\n",
    "  auto t1 = high_resolution_clock::now();\n",
    "  auto y = FFT(x);\n",
    "  auto t2 = high_resolution_clock::now();\n",
    "  if (SIZE <= 32) {\n",
    "    copy(begin(y), end(y), ostream_iterator<Complex>(cout, \" \"));\n",
    "    cout << endl;\n",
    "  }\n",
    "  cout << duration_cast<milliseconds>(t2 - t1).count() << \" ms\" << endl;\n",
    "  return 0;\n",
    "}\n",
    "```"
   ]
  },
  {
   "cell_type": "markdown",
   "id": "5dd8e1cf-feff-4ccf-af9f-ee51d1402d66",
   "metadata": {},
   "source": [
    "* C++ non optimised: size=2^25 --> 32s\n",
    "* C++ -O3: size=2^25 --> 7.4s\n",
    "* Python jit: size=2^25 --> < 6s\n",
    "* Python non optimised: size=2^20 --> 3.9s \n",
    "* Python non optimised: size=2^24 --> 83s\n",
    "* numpy.fft.fft: size=2^25 --> 883ms"
   ]
  },
  {
   "cell_type": "code",
   "execution_count": 11,
   "id": "1cad9f3f-22b8-4c18-8944-f0838dcb40a2",
   "metadata": {},
   "outputs": [],
   "source": [
    "%%bash\n",
    "clang++ -O3 -std=c++14 fft.cpp -o fft.exe"
   ]
  },
  {
   "cell_type": "code",
   "execution_count": 10,
   "id": "66fba31b-f9d9-4924-ae7d-d4828b19675b",
   "metadata": {},
   "outputs": [
    {
     "name": "stdout",
     "output_type": "stream",
     "text": [
      "32970 ms\n"
     ]
    }
   ],
   "source": [
    "%%bash\n",
    "./fft.exe $((2**25))"
   ]
  },
  {
   "cell_type": "code",
   "execution_count": 8,
   "id": "92919893-9595-4400-9a18-923696f6eb5b",
   "metadata": {},
   "outputs": [
    {
     "name": "stdout",
     "output_type": "stream",
     "text": [
      "#include <algorithm>\n",
      "#include <chrono>\n",
      "#include <cmath>\n",
      "#include <complex>\n",
      "#include <fstream>\n",
      "#include <future>\n",
      "#include <iostream>\n",
      "#include <iterator>\n",
      "#include <numeric>\n",
      "#include <string>\n",
      "#include <thread>\n",
      "#include <vector>\n",
      "\n",
      "using namespace std;\n",
      "using namespace chrono;\n",
      "\n",
      "using Real = double;\n",
      "using Complex = complex<Real>;\n",
      "using Array = vector<Real>;\n",
      "using CArray = vector<Complex>;\n",
      "\n",
      "size_t BitReverse(size_t n, int nbits) {\n",
      "  size_t x = 0;\n",
      "  for (int i = 0; i != nbits; ++i) {\n",
      "    x |= ((n >> i) & 0x1) << ((nbits - i) - 1);\n",
      "  }\n",
      "  return x;\n",
      "}\n",
      "\n",
      "void ShuffleCoeff(const Array &x, CArray &y) {\n",
      "  auto bits = int(log2(x.size()));\n",
      "  for (size_t i = 0; i != x.size(); ++i) {\n",
      "    y[i] = Complex(x[BitReverse(i, bits)], 0.f);\n",
      "  }\n",
      "}\n",
      "\n",
      "CArray FFT(const Array &x) {\n",
      "  const auto N = x.size();\n",
      "  CArray y(N);\n",
      "  ShuffleCoeff(x, y);\n",
      "  auto levels = int(log2(N));\n",
      "  for (int l = 1; l != levels + 1; ++l) {\n",
      "    auto span = 1 << l;\n",
      "    auto s2 = span >> 1;\n",
      "    auto wm = exp(Complex(0.f, -M_PI / Real(s2)));\n",
      "    auto w = Complex(1.f, 0.f);\n",
      "    for (int s = 0; s < s2; ++s) {\n",
      "      for (int k = s; k < N; k += span) {\n",
      "        Complex u = y[k];\n",
      "        y[k] = u + w * y[k + s2];\n",
      "        y[k + s2] = u - w * y[k + s2];\n",
      "      }\n",
      "      w *= wm;\n",
      "    }\n",
      "  }\n",
      "  return y;\n",
      "}\n",
      "\n",
      "int main(int argc, char **argv) {\n",
      "  if (argc < 2) {\n",
      "    cerr << argv[0] << \" <array size (power of two)>\" << endl;\n",
      "    exit(EXIT_FAILURE);\n",
      "  }\n",
      "  const size_t SIZE = stoull(argv[1]);\n",
      "  if (log2(double(SIZE)) != floor(log2(double(SIZE)))) {\n",
      "    cerr << \"Size must be a power of two\" << endl;\n",
      "    exit(EXIT_FAILURE);\n",
      "  }\n",
      "  Array x(SIZE);\n",
      "  iota(begin(x), end(x), Real(1));\n",
      "  auto t1 = high_resolution_clock::now();\n",
      "  auto y = FFT(x);\n",
      "  auto t2 = high_resolution_clock::now();\n",
      "  if (SIZE <= 32) {\n",
      "    copy(begin(y), end(y), ostream_iterator<Complex>(cout, \" \"));\n",
      "    cout << endl;\n",
      "  }\n",
      "  cout << duration_cast<milliseconds>(t2 - t1).count() << \" ms\" << endl;\n",
      "\n",
      "  ofstream os(\"/dev/null\");\n",
      "  os << y[1];\n",
      "  return 0;\n",
      "}\n"
     ]
    }
   ],
   "source": [
    "%%bash\n",
    "cat ./fft.cpp"
   ]
  },
  {
   "cell_type": "code",
   "execution_count": 32,
   "id": "d75f72ec-caa4-431c-afa8-4f5bdb3d34e5",
   "metadata": {},
   "outputs": [
    {
     "ename": "NameError",
     "evalue": "name 'f' is not defined",
     "output_type": "error",
     "traceback": [
      "\u001b[0;31m---------------------------------------------------------------------------\u001b[0m",
      "\u001b[0;31mNameError\u001b[0m                                 Traceback (most recent call last)",
      "Cell \u001b[0;32mIn[32], line 1\u001b[0m\n\u001b[0;32m----> 1\u001b[0m \u001b[43mf\u001b[49m\n",
      "\u001b[0;31mNameError\u001b[0m: name 'f' is not defined"
     ]
    }
   ],
   "source": [
    "f"
   ]
  },
  {
   "cell_type": "code",
   "execution_count": null,
   "id": "05797714-c325-4974-8318-14504d16ac07",
   "metadata": {},
   "outputs": [],
   "source": []
  }
 ],
 "metadata": {
  "kernelspec": {
   "display_name": "Python 3 (ipykernel)",
   "language": "python",
   "name": "python3"
  },
  "language_info": {
   "codemirror_mode": {
    "name": "ipython",
    "version": 3
   },
   "file_extension": ".py",
   "mimetype": "text/x-python",
   "name": "python",
   "nbconvert_exporter": "python",
   "pygments_lexer": "ipython3",
   "version": "3.11.5"
  }
 },
 "nbformat": 4,
 "nbformat_minor": 5
}
