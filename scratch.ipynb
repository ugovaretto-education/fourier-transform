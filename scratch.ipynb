{
 "cells": [
  {
   "cell_type": "markdown",
   "id": "389523fb-986b-4a87-89d1-7a4db3e87dfa",
   "metadata": {},
   "source": [
    "# Fast Fourier Transform\n",
    "\n",
    "\\begin{equation}\n",
    "\\displaylines{\n",
    "F_k = \\sum_{n=0}^{N/2-1}x_{2n}e^{-2\\pi jk2n/N} + \\sum_{n=0}^{N/2-1}x_{2n+1}e^{-2\\pi jk(2n+1)/N} = \\sum_{n=0}^{N/2-1}x_{2n}e^{-2\\pi jk2n/N} + \\omega_N^{k}\\sum_{n=0}^{N/2-1}x_{2n+1}e^{-2\\pi jk2n/N} \\\\\n",
    "where \\\\\n",
    "\\omega_N = e^{-2\\pi j/N}\n",
    "}\n",
    "\\end{equation}\n"
   ]
  },
  {
   "cell_type": "markdown",
   "id": "794cfeb4-bc21-4742-a043-7313ba8a0d4c",
   "metadata": {},
   "source": [
    "\\begin{equation}\n",
    "\\begin{cases}\n",
    "\\omega_N^{k + N/2} = e^{-2\\pi j * (k + N/2)/N} = e^{-2\\pi jk/N}*e^{-\\pi j} = -\\omega_N^{k}\\\\\n",
    "e^{-\\pi j} = cos(-\\pi) + j sin(-\\pi) = -1 \n",
    "\\end{cases}\n",
    "\\end{equation}"
   ]
  },
  {
   "cell_type": "markdown",
   "id": "7a5f4695-6edc-495a-9fe4-a480a674e339",
   "metadata": {},
   "source": [
    "\\begin{equation}\n",
    "\\displaylines{\n",
    "F_{k + N/2} = \\sum_{n=0}^{N/2-1}x_{2n}e^{-2\\pi j (k+N/2) 2n/N} + \\sum_{n=0}^{N/2-1}x_{2n+1}e^{-2\\pi j(k+N/2)(2n+1)/N} \\\\\n",
    "  = \\sum_{n=0}^{N/2-1}x_{2n}e^{-2\\pi j(k+N/2)2n/N} + \\omega_N^{k+N/2}\\sum_{n=0}^{N/2-1}x_{2n+1}e^{-2\\pi j(k+N/2)2n/N} \\\\\n",
    "  = \\sum_{n=0}^{N/2-1}x_{2n}e^{-2\\pi jk2n/N}e^{-2\\pi jn} - \\omega_N^k \\sum_{n=0}^{N/2-1}x_{2n+1}e^{-2\\pi jk2n/N}e^{-2\\pi jn} \\\\\n",
    "  where \\\\\n",
    "  e^{-2\\pi jn} = cos(-2\\pi n) + jsin(-2\\pi n) = 1\n",
    "}\n",
    "\\end{equation}"
   ]
  },
  {
   "cell_type": "markdown",
   "id": "fd7cfcc7-ad6e-408f-b2eb-6c5ed43413f8",
   "metadata": {},
   "source": [
    "\\begin{equation}\n",
    "\\begin{cases}\n",
    "\\begin{aligned}\n",
    "F_k = \\sum_{n=0}^{N/2-1}x_{2n}e^{-2\\pi jk2n/N} + \\omega_N^{k}\\sum_{n=0}^{N/2-1}x_{2n+1}e^{-2\\pi jk2n/N} \\\\\n",
    "F_{k + N/2} = \\sum_{n=0}^{N/2-1}x_{2n}e^{-2\\pi jk2n/N} - \\omega_N^{k}\\sum_{n=0}^{N/2-1}x_{2n+1}e^{-2\\pi jk2n/N} \\\\\n",
    "\\omega = e^{-2\\pi j/N} \\\\\n",
    "\\forall k \\in [0,N)\n",
    "\\end{aligned}\n",
    "\\end{cases} \\tag{1}\n",
    "\\end{equation}"
   ]
  },
  {
   "cell_type": "markdown",
   "id": "917c440a-c645-42e5-8dc7-90c89101b5c5",
   "metadata": {},
   "source": [
    "## Example\n",
    "\n",
    "$$\\forall k \\in [0,8)$$\n",
    "$$\\omega_N = e^{-2\\pi j/N}$$\n",
    "\n",
    "\\begin{equation}\n",
    "\\begin{cases}\n",
    "\\begin{aligned}\n",
    "F_0 = \\sum_{n=0}^{3}x_{2n}\\omega_8^{0\\cdot2n} + \\omega_8^{0}\\sum_{n=0}^{3}x_{2n+1}\\omega_8^{0\\cdot2n} = \\sum_{n=0}^{7}x_{n} \\\\\n",
    "F_1 = \\sum_{n=0}^{3}x_{2n}\\omega_8^{1\\cdot2n} + \\omega_8^{1}\\sum_{n=0}^{3}x_{2n+1}\\omega_8^{1\\cdot2n} \\\\\n",
    "F_2 = \\sum_{n=0}^{3}x_{2n}\\omega_8^{2\\cdot2n} + \\omega_8^{2}\\sum_{n=0}^{3}x_{2n+1}\\omega_8^{2\\cdot2n} \\\\\n",
    "F_3 = \\sum_{n=0}^{3}x_{2n}\\omega_8^{3\\cdot2n} + \\omega_8^{3}\\sum_{n=0}^{3}x_{2n+1}\\omega_8^{3\\cdot2n} \\\\\n",
    "F_4 = \\sum_{n=0}^{3}x_{2n}\\omega_8^{0\\cdot2n} - \\omega_8^{0}\\sum_{n=0}^{3}x_{2n+1}\\omega_8^{0\\cdot2n} \\\\\n",
    "F_5 = \\sum_{n=0}^{3}x_{2n}\\omega_8^{1\\cdot2n} - \\omega_8^{1}\\sum_{n=0}^{3}x_{2n+1}\\omega_8^{1\\cdot2n} \\\\\n",
    "F_6 = \\sum_{n=0}^{3}x_{2n}\\omega_8^{2\\cdot2n} - \\omega_8^{2}\\sum_{n=0}^{3}x_{2n+1}\\omega_8^{2\\cdot2n} \\\\\n",
    "F_7 = \\sum_{n=0}^{3}x_{2n}\\omega_8^{3\\cdot2n} - \\omega_8^{3}\\sum_{n=0}^{3}x_{2n+1}\\omega_8^{3\\cdot2n} \\\\\n",
    "\\end{aligned}\n",
    "\\end{cases}\n",
    "\\end{equation}"
   ]
  },
  {
   "cell_type": "markdown",
   "id": "d55c6a5b-6607-494d-b607-764dc90882e2",
   "metadata": {},
   "source": [
    "\\begin{equation}\n",
    "\\displaylines{\n",
    "F_k = (\\sum_{n=0}^{1}x_{2\\cdot2n}\\omega_{4}^{k\\cdot2\\cdot2n} + \\omega_{4}^{2k}\\sum_{n=0}^{1}x_{2\\cdot(2n+1)}\\omega_4^{k\\cdot2\\cdot2n}) + \\\\\n",
    "      + \\omega_8^k(\\omega_{4}^{k}\\sum_{n=0}^{1}x_{2\\cdot2n+1}\\omega_{4}^{k\\cdot2\\cdot2n} +\n",
    "        \\omega_{4}^{3k}\\sum_{n=0}^{1}x_{2\\cdot(2n+1)+1}\\omega_{4}^{k\\cdot2\\cdot2n})\n",
    "}\n",
    "\\end{equation}"
   ]
  },
  {
   "cell_type": "markdown",
   "id": "be2c39b4-f857-4656-af50-71891d13c7c7",
   "metadata": {},
   "source": [
    "\\begin{equation}\n",
    "F_k = x_0 + \\omega_4^{4k} \\cdot x_4 + \\omega_4^{2k} \\cdot x_2 + \\omega_4^{6k} \\cdot x_6 + \n",
    "      \\omega_8^k(\\omega_4^k \\cdot x_1 + \\omega_4^{5k} \\cdot x_5 + \\omega_4^{3k} \\cdot x_3 + \\omega_4^{7k} \\cdot x_7) \n",
    "\\end{equation}"
   ]
  },
  {
   "cell_type": "markdown",
   "id": "0e5bce41-559b-4d26-a264-fcf51f3ddf0b",
   "metadata": {},
   "source": [
    "\\begin{equation}\n",
    "\\displaylines{\n",
    "\\fbox{0}\\fbox{1}\\fbox{2}\\fbox{3}\\fbox{4}\\fbox{5}\\fbox{6}\\fbox{7} \\\\\n",
    "\\swarrow \\hspace{4mm} \\searrow \\\\\n",
    "\\fbox{0}\\fbox{2}\\fbox{4}\\fbox{6} \\hspace{10mm} \\fbox{1}\\fbox{3}\\fbox{5}\\fbox{7} \\\\\n",
    "\\swarrow \\hspace{5mm} \\searrow \\hspace{20mm} \\swarrow \\hspace{5mm} \\searrow \\\\\n",
    "\\fbox{0}\\fbox{4} \\hspace{10mm} \\fbox{2}\\fbox{6} \\hspace{10mm} \\fbox{1}\\fbox{3} \\hspace{10mm} \\fbox{5}\\fbox{7}\n",
    "}\n",
    "\\end{equation}"
   ]
  },
  {
   "cell_type": "code",
   "execution_count": null,
   "id": "8f1af925-d2d8-4479-8db9-617c0d0ba199",
   "metadata": {},
   "outputs": [],
   "source": [
    "def bitreverse(n: int, num_bits: int) -> int:\n",
    "    x = 0\n",
    "    for i in range(num_bits):\n",
    "        x |= ((n >> i) & 0x1) << ((num_bits - i) - 1)\n",
    "        #n >>= 1\n",
    "    return x"
   ]
  },
  {
   "cell_type": "code",
   "execution_count": null,
   "id": "67cbc71e-1c5b-4b9d-aa34-776a1def33ed",
   "metadata": {},
   "outputs": [],
   "source": [
    "def shuffle_coeff(x: npt.NDArray[np.float64], y: npt.NDArray[np.cdouble]):\n",
    "    bits = int(np.log2(len(x)))\n",
    "    for i in range(len(x)):\n",
    "        y[i] = x[bitreverse(i, bits)] # + 0j\n",
    "    return y"
   ]
  },
  {
   "cell_type": "code",
   "execution_count": null,
   "id": "95822ff6-ade1-4ba5-aab0-d42789a90fa3",
   "metadata": {},
   "outputs": [],
   "source": [
    "import numpy as np\n",
    "import numpy.typing as npt\n",
    "import matplotlib.pyplot as plt"
   ]
  },
  {
   "cell_type": "code",
   "execution_count": null,
   "id": "704fe2e0-7b04-4a77-afb9-be0ff0836231",
   "metadata": {},
   "outputs": [],
   "source": [
    "def fft(x: npt.NDArray[np.float64]) -> npt.NDArray[np.cdouble]:\n",
    "    N = len(x)\n",
    "    y = np.zeros(N, dtype = np.cdouble)\n",
    "    shuffle_coeff(x, y)\n",
    "    levels = int(np.log2(N))\n",
    "    for l in range(1, levels + 1):\n",
    "        stride = 1 << l # stride = 2^level\n",
    "        s2 = stride >> 1 # half stride, iterate until stride/2 and use Eq. 1\n",
    "        wm = np.exp(-1j * np.pi / s2) # s2 == stride/2 --> np.exp(-2j*np.pi/stride) = np.exp(-j*np.pi/(stride/2)) = np.exp(-j*np.pi/s2) \n",
    "        w = 1. + 0j\n",
    "        for s in range(s2): # iterate from 0 to stride / 2 - 1\n",
    "            for k in range(s, N, stride):\n",
    "                #w = np.exp(-2j*np.pi*(s + i * stride)/stride) #k is a multiple of stride, therefore, it can be set outside the loop\n",
    "                                                               #see Eq. 2\n",
    "                u = y[k]\n",
    "                y[k] = u + w * y[k+stride//2]\n",
    "                y[k + stride // 2] = u - w * y[k+stride//2]\n",
    "            w *= wm\n",
    "    return y  "
   ]
  },
  {
   "cell_type": "markdown",
   "id": "e4650769-0203-41df-9318-f59f9f2583e8",
   "metadata": {},
   "source": [
    "\\begin{equation}\n",
    "\\begin{cases}\n",
    "k = s + n \\cdot stride \\\\\n",
    "e^{-2\\pi j\\cdot (s+n\\cdot stride)/stride} = e^{-2\\pi js/stride} \\cdot e^{-2\\pi j n} \\\\\n",
    "e^{-2\\pi j n} = 1 \\; \\forall n \\in \\mathbb{N}\n",
    "\\end{cases} \\tag{2}\n",
    "\\end{equation}"
   ]
  },
  {
   "cell_type": "code",
   "execution_count": null,
   "id": "a3939cef-2a4f-425e-b4d3-1548febbbc79",
   "metadata": {},
   "outputs": [],
   "source": [
    "x = np.arange(256)"
   ]
  },
  {
   "cell_type": "code",
   "execution_count": null,
   "id": "9caa0df4-0bca-45f1-90bb-fa04748c9842",
   "metadata": {},
   "outputs": [],
   "source": [
    "y = np.empty(len(x))"
   ]
  },
  {
   "cell_type": "code",
   "execution_count": null,
   "id": "3a9c31f8-04c5-418a-8d02-648e320ad91d",
   "metadata": {},
   "outputs": [],
   "source": [
    "assert np.allclose(fft(x), np.fft.fft(x))"
   ]
  },
  {
   "cell_type": "markdown",
   "id": "4272f22a-d13d-41f6-ab73-9d5754551476",
   "metadata": {},
   "source": [
    "# Parallel FFT"
   ]
  },
  {
   "cell_type": "markdown",
   "id": "f707c740-5be9-4e8d-b804-9ff17d240c82",
   "metadata": {},
   "source": [
    "\\begin{equation}\n",
    "\\displaylines{\n",
    "\\fbox{0}\\fbox{1}\\fbox{2}\\fbox{3}\\fbox{4}\\fbox{5}\\fbox{6}\\fbox{7} \\\\\n",
    "\\swarrow \\hspace{4mm} \\searrow \\\\\n",
    "\\fbox{0}\\fbox{2}\\fbox{4}\\fbox{6} \\hspace{10mm} \\fbox{1}\\fbox{3}\\fbox{5}\\fbox{7} \\\\\n",
    "\\swarrow \\hspace{5mm} \\searrow \\hspace{20mm} \\swarrow \\hspace{5mm} \\searrow \\\\\n",
    "\\fbox{0}\\fbox{4} \\hspace{10mm} \\fbox{2}\\fbox{6} \\hspace{10mm} \\fbox{1}\\fbox{3} \\hspace{10mm} \\fbox{5}\\fbox{7}\n",
    "}\n",
    "\\end{equation}"
   ]
  },
  {
   "cell_type": "markdown",
   "id": "0e065548-a588-426c-b07a-513a227803ba",
   "metadata": {},
   "source": [
    "[Parallel Python](./multiprocessing.ipynb)"
   ]
  },
  {
   "cell_type": "code",
   "execution_count": 3,
   "id": "29812849-4761-47d9-99b3-2eac095227c3",
   "metadata": {},
   "outputs": [],
   "source": [
    "import multiprocessing as mp\n",
    "import numpy as np\n",
    "import numpy.typing as npt"
   ]
  },
  {
   "cell_type": "code",
   "execution_count": null,
   "id": "400fdfad-b74f-4c96-a2be-24dc2e3bdeca",
   "metadata": {},
   "outputs": [],
   "source": [
    "# apply fft to subrange of\n",
    "# y contains the already shuffled elements\n",
    "def subfft(x: multiprocessing.Array, fft_range: Tuple[int, int]) -> npt.NDArray[np.cdouble]:\n",
    "    np.frombuffer\n",
    "    N = len(x)\n",
    "    y = np.frombuffer(x, dtype=np.cdouble, \n",
    "    levels = int(np.log2(N))\n",
    "    start = fft_range[0]\n",
    "    end = fft_range[1]\n",
    "    subrange = end - start\n",
    "    for l in range(1, levels + 1):\n",
    "        stride = 1 << l # stride = 2^level\n",
    "        s2 = stride >> 1 # half stride, iterate until stride/2 and use Eq. 1\n",
    "        wm = np.exp(-1j * np.pi / s2) # s2 == stride/2 --> np.exp(-2j*np.pi/stride) = np.exp(-j*np.pi/(stride/2)) = np.exp(-j*np.pi/s2) \n",
    "        w = 1. + 0j\n",
    "        for s in range(s2): # iterate from 0 to stride / 2 - 1\n",
    "            for k in range(start + s, subrange, stride):\n",
    "                #w = np.exp(-2j*np.pi*(s + i * stride)/stride) #k is a multiple of stride, therefore, it can be set outside the loop\n",
    "                                                               #see Eq. 2\n",
    "                u = y[k]\n",
    "                y[k] = u + w * y[k+stride//2]\n",
    "                y[k + stride // 2] = u - w * y[k+stride//2]\n",
    "            w *= wm\n",
    "    return y  "
   ]
  },
  {
   "cell_type": "code",
   "execution_count": 1,
   "id": "8daeb152-7bd2-4e0d-b124-010847fe1d40",
   "metadata": {},
   "outputs": [],
   "source": [
    "import multiprocessing"
   ]
  },
  {
   "cell_type": "code",
   "execution_count": 2,
   "id": "a842fc63-50ae-47d6-8dba-bd05303f2c20",
   "metadata": {},
   "outputs": [],
   "source": [
    "def foo(x: multiprocessing.Array):\n",
    "    pass"
   ]
  },
  {
   "cell_type": "code",
   "execution_count": null,
   "id": "ba33da87-a650-4b12-8bdd-63b0725c9366",
   "metadata": {},
   "outputs": [],
   "source": []
  }
 ],
 "metadata": {
  "kernelspec": {
   "display_name": "Python 3 (ipykernel)",
   "language": "python",
   "name": "python3"
  },
  "language_info": {
   "codemirror_mode": {
    "name": "ipython",
    "version": 3
   },
   "file_extension": ".py",
   "mimetype": "text/x-python",
   "name": "python",
   "nbconvert_exporter": "python",
   "pygments_lexer": "ipython3",
   "version": "3.11.5"
  }
 },
 "nbformat": 4,
 "nbformat_minor": 5
}
